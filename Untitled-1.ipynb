{
 "cells": [
  {
   "cell_type": "code",
   "execution_count": null,
   "metadata": {},
   "outputs": [],
   "source": [
    "\n",
    "def celsius_to_fahrenheit(celsius):\n",
    "    return(celsius* 9/5)+32\n",
    "print(celsius_to_fahrenheit(celsius))\n",
    "\n",
    "def celsius_to_kelvin(celsius):\n",
    "    return(celsius+273.15)\n",
    "print(celsius_to_kelvin(celsius))\n",
    "\n",
    "def fahrenheit_to_celsius(fahrenheit):\n",
    "    return(fahrenheit-32)*5/9\n",
    "fahrenheit=10\n",
    "print(fahrenheit_to_celsius(fahrenheit))\n",
    "\n",
    "def fahrenheit_to_kelvin(fahrenheit):\n",
    "    return (fahrenheit-32)*5/9+273.15\n",
    "print(fahrenheit_to_kelvin(fahrenheit))\n",
    "\n",
    "def kelvin_to_celsius(kelvin):\n",
    "    return(kelvin-273.15)\n",
    "kelvin=20\n",
    "print(kelvin_to_celsius(kelvin))\n",
    "\n",
    "def kelvin_to_fahrenheit(kelvin):\n",
    "    return(kelvin-273.15)*9/5+32\n",
    "print(kelvin_to_fahrenheit(kelvin))"
   ]
  }
 ],
 "metadata": {
  "kernelspec": {
   "display_name": "Python 3",
   "language": "python",
   "name": "python3"
  },
  "language_info": {
   "name": "python",
   "version": "3.12.5"
  }
 },
 "nbformat": 4,
 "nbformat_minor": 2
}
