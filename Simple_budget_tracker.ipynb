{
 "cells": [
  {
   "cell_type": "code",
   "execution_count": 22,
   "metadata": {},
   "outputs": [
    {
     "name": "stdout",
     "output_type": "stream",
     "text": [
      "food : 300.0\n",
      "Health : 300.0\n",
      "ent : 345.0\n",
      "Total Spent: 945.0\n",
      "Remaining Balance : 55.0\n"
     ]
    }
   ],
   "source": [
    "def budget_calculator():\n",
    " total_budget=float(input('Énter total budget'))\n",
    " expense=[]\n",
    " total_spent=0\n",
    "\n",
    " while True:\n",
    "        category=input(\"Enter a category(food,transport,entertainment or 'ok' to stop):\")\n",
    "        if category.lower() == 'ok' :\n",
    "         break\n",
    "        amount=float(input('Enter the amount spent :')) \n",
    "      \n",
    "       \n",
    "        print(f'{category} : {amount}')   \n",
    "        for category,amount in expense:\n",
    "             expense.append((category,amount))\n",
    "        total_spent +=  amount\n",
    "        balance= total_budget-total_spent\n",
    "\n",
    " print(\"Total Spent:\",total_spent)\n",
    " print(\"Remaining Balance :\",balance)     \n",
    " \n",
    " if total_spent>total_budget :\n",
    "  print(f\"Warning:Budget exceeded ,Total budeget of! {total_budget}\")\n",
    "budget_calculator()\n",
    " \n",
    "\n"
   ]
  }
 ],
 "metadata": {
  "kernelspec": {
   "display_name": "Python 3",
   "language": "python",
   "name": "python3"
  },
  "language_info": {
   "codemirror_mode": {
    "name": "ipython",
    "version": 3
   },
   "file_extension": ".py",
   "mimetype": "text/x-python",
   "name": "python",
   "nbconvert_exporter": "python",
   "pygments_lexer": "ipython3",
   "version": "3.12.5"
  }
 },
 "nbformat": 4,
 "nbformat_minor": 2
}
