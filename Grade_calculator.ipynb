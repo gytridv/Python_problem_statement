{
 "cells": [
  {
   "cell_type": "code",
   "execution_count": 1,
   "metadata": {},
   "outputs": [
    {
     "name": "stdout",
     "output_type": "stream",
     "text": [
      "Grade:F,You can do better\n",
      "<function cal_grade at 0x000001FCABD1F9C0>\n"
     ]
    }
   ],
   "source": [
    "def cal_grade():\n",
    "\n",
    "   marks=[]\n",
    "   sub=int(input('enter no of subjects:'))\n",
    "   for i in range(sub):\n",
    "      mark=float(input(f\"Enter your mark {i+1}:\"))\n",
    "      marks.append(mark)\n",
    "      average = sum(marks)/sub\n",
    "   if average>=90:\n",
    "     print(\"Grade:A\") \n",
    "   elif average>=80 and average<=89.99:\n",
    "      print(\"Grade:B\") \n",
    "   elif average>=70 and average<=79.99:\n",
    "     print(\"Grade:C\") \n",
    "   elif average>=60 and average<=69.99:\n",
    "      print(\"Grade:D ,You can do better\") \n",
    "   else :\n",
    "      print(\"Grade:F,You can do better\") \n",
    " \n",
    "cal_grade()\n",
    "print(cal_grade)"
   ]
  },
  {
   "cell_type": "code",
   "execution_count": null,
   "metadata": {},
   "outputs": [],
   "source": [
    "\n"
   ]
  }
 ],
 "metadata": {
  "kernelspec": {
   "display_name": "Python 3",
   "language": "python",
   "name": "python3"
  },
  "language_info": {
   "codemirror_mode": {
    "name": "ipython",
    "version": 3
   },
   "file_extension": ".py",
   "mimetype": "text/x-python",
   "name": "python",
   "nbconvert_exporter": "python",
   "pygments_lexer": "ipython3",
   "version": "3.12.5"
  }
 },
 "nbformat": 4,
 "nbformat_minor": 2
}
