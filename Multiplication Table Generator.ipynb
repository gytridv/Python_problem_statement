{
 "cells": [
  {
   "cell_type": "code",
   "execution_count": 1,
   "metadata": {},
   "outputs": [
    {
     "name": "stdout",
     "output_type": "stream",
     "text": [
      "The entered numbers are 10 , 20 and30.\n",
      "10 x 0 =   0  ,  20 x 0 =   0  ,  30 x 0 =   0\n",
      "10 x 1 =  10  ,  20 x 1 =  20  ,  30 x 1 =  30\n",
      "10 x 2 =  20  ,  20 x 2 =  40  ,  30 x 2 =  60\n",
      "10 x 3 =  30  ,  20 x 3 =  60  ,  30 x 3 =  90\n",
      "10 x 4 =  40  ,  20 x 4 =  80  ,  30 x 4 = 120\n",
      "10 x 5 =  50  ,  20 x 5 = 100  ,  30 x 5 = 150\n",
      "10 x 6 =  60  ,  20 x 6 = 120  ,  30 x 6 = 180\n",
      "10 x 7 =  70  ,  20 x 7 = 140  ,  30 x 7 = 210\n",
      "10 x 8 =  80  ,  20 x 8 = 160  ,  30 x 8 = 240\n",
      "10 x 9 =  90  ,  20 x 9 = 180  ,  30 x 9 = 270\n"
     ]
    }
   ],
   "source": [
    "number1 = int(input('Enter a number:'))\n",
    "number2 = int(input('Enter a number:'))\n",
    "number3 = int(input('Enter a number:'))\n",
    "\n",
    "upto=int(input('Enter the range up to which the table should be generated:'))\n",
    "print(f'The entered numbers are {number1} , {number2} and{ number3}.')\n",
    "for i in range(upto):\n",
    "    print(('%d x %d = %3d' %(number1, i, number1*i )),  ' , ', ('%d x %d = %3d' %(number2, i, number2*i   )), ' , ',('%d x %d = %3d' %(number3, i, number3*i)))"
   ]
  }
 ],
 "metadata": {
  "kernelspec": {
   "display_name": "Python 3",
   "language": "python",
   "name": "python3"
  },
  "language_info": {
   "codemirror_mode": {
    "name": "ipython",
    "version": 3
   },
   "file_extension": ".py",
   "mimetype": "text/x-python",
   "name": "python",
   "nbconvert_exporter": "python",
   "pygments_lexer": "ipython3",
   "version": "3.12.5"
  }
 },
 "nbformat": 4,
 "nbformat_minor": 2
}
