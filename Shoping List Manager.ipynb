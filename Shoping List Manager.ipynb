{
 "cells": [
  {
   "cell_type": "code",
   "execution_count": 1,
   "metadata": {},
   "outputs": [
    {
     "name": "stdout",
     "output_type": "stream",
     "text": [
      "All Items: ['toy']\n",
      "All Items: ['toy', 'book']\n"
     ]
    }
   ],
   "source": [
    "def Shopping_list_manager():\n",
    " def view_list(shopping_list):# Displays all items in the list.\n",
    "  return(shopping_list)\n",
    " def add_item(shopping_list, item):# Adds an item to the list.\n",
    "  return(item)\n",
    "  def remove_item(shopping_list, item): #Removes an item from the list.\n",
    "   return(item)\n",
    "  def clear_list(shopping_list): # Clears all items from the list.\n",
    "   return(shopping_list)\n",
    " shopping_list=[]\n",
    " while True:\n",
    "        \n",
    "        item=input(\"Enter a name of item,  or 'ok' to stop):\")\n",
    "        if item.lower() == 'ok' :\n",
    "         break\n",
    "        shopping_list.append(item)\n",
    "        #amount=float(input('Enter the amount spent :')) \n",
    "        print(f'All Items: {shopping_list}')\n",
    "        Menu=input(\"Enter add to Add an item, remove to Remove and item,clear to clear the list or exist to exit the menu\")\n",
    "        if Menu =='add':\n",
    "           item=input(\"Enter a name of item  or 'ok' to stop):\")\n",
    "           shopping_list.append(item)\n",
    "           print(f'All Items: {shopping_list}')\n",
    "Shopping_list_manager()        "
   ]
  }
 ],
 "metadata": {
  "kernelspec": {
   "display_name": "Python 3",
   "language": "python",
   "name": "python3"
  },
  "language_info": {
   "codemirror_mode": {
    "name": "ipython",
    "version": 3
   },
   "file_extension": ".py",
   "mimetype": "text/x-python",
   "name": "python",
   "nbconvert_exporter": "python",
   "pygments_lexer": "ipython3",
   "version": "3.12.5"
  }
 },
 "nbformat": 4,
 "nbformat_minor": 2
}
