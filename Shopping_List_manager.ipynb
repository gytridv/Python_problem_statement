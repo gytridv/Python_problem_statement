{
 "cells": [
  {
   "cell_type": "code",
   "execution_count": 5,
   "metadata": {},
   "outputs": [
    {
     "name": "stdout",
     "output_type": "stream",
     "text": [
      "pen: added\n",
      "List cleared\n",
      "Items in the list: []\n",
      "List empty\n",
      "Exit\n"
     ]
    }
   ],
   "source": [
    "def add_item(shopping_list):# Adds an item to the list.\n",
    "  item=input(\"Enter an item :\")\n",
    "  shopping_list.append(item)\n",
    "  print(f\"{item}: added\")\n",
    "\n",
    "def remove_item(shopping_list): #Removes an item from the list.\n",
    "   item=input(\"Ënter the item to remove\")\n",
    "   shopping_list.remove(item)\n",
    "   print(f'{item} :Removed')\n",
    "\n",
    "def view_list(shopping_list):# Displays all items in the list.\n",
    "  print(f\"Items in the list: {shopping_list}\")\n",
    "  if shopping_list==\" \":\n",
    "    print (\"Your list is empty\")\n",
    "\n",
    "def clear_list(shopping_list): # Clears all items from the list.\n",
    "   shopping_list.clear()\n",
    "   print(\"List cleared\")\n",
    "\n",
    "def list_manager():\n",
    "  shopping_list= []\n",
    "  while True:\n",
    "    option= input(\"Enter the action required 'add','remove','clear','exit','view_list'\")\n",
    "    if option=='add':\n",
    "     add_item(shopping_list)\n",
    "    elif option== \"remove\":\n",
    "      remove_item(shopping_list)\n",
    "    elif option==\"view_list\" :\n",
    "      view_list(shopping_list)\n",
    "      if len(shopping_list)== 0:\n",
    "        print(\"List empty\")\n",
    "    elif option == \"clear\" :\n",
    "      clear_list(shopping_list)\n",
    "    else:\n",
    "      print(\"Exit\")\n",
    "      break\n",
    "list_manager()    \n",
    "\n",
    "\n",
    "  "
   ]
  }
 ],
 "metadata": {
  "kernelspec": {
   "display_name": "Python 3",
   "language": "python",
   "name": "python3"
  },
  "language_info": {
   "codemirror_mode": {
    "name": "ipython",
    "version": 3
   },
   "file_extension": ".py",
   "mimetype": "text/x-python",
   "name": "python",
   "nbconvert_exporter": "python",
   "pygments_lexer": "ipython3",
   "version": "3.12.5"
  }
 },
 "nbformat": 4,
 "nbformat_minor": 2
}
