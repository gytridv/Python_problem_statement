{
 "cells": [
  {
   "cell_type": "code",
   "execution_count": 12,
   "metadata": {},
   "outputs": [
    {
     "name": "stdout",
     "output_type": "stream",
     "text": [
      "1.celsius_to_fahrenheit\n",
      "2.celsius_to_kelvin\n",
      "3.fahrenheit_to_celsius\n",
      "4.fahrenheit_to_kelvin\n",
      "5.kelvin_to_celsius\n",
      "6.kelvin_to_fahrenheit\n",
      "33.0F is converted to 0.5555555555555556C:\n",
      "55.0K is converted to -218.14999999999998C:\n"
     ]
    }
   ],
   "source": [
    "def celsius_to_fahrenheit(celsius):\n",
    "    return(celsius* 9/5)+32\n",
    "def celsius_to_kelvin(celsius):\n",
    "    return(celsius+273.15)\n",
    "def fahrenheit_to_celsius(fahrenheit):\n",
    "    return(fahrenheit-32)*5/9\n",
    "def fahrenheit_to_kelvin(fahrenheit):\n",
    "    return (fahrenheit-32)*5/9+273.15\n",
    "def kelvin_to_celsius(kelvin):\n",
    "    return(kelvin-273.15)\n",
    "def kelvin_to_fahrenheit(kelvin):\n",
    "    return(kelvin-273.15)*9/5+32\n",
    "def temp_converter():\n",
    "    conversion= []\n",
    "    print(\"1.celsius_to_fahrenheit\")\n",
    "    print(\"2.celsius_to_kelvin\")\n",
    "    print(\"3.fahrenheit_to_celsius\")\n",
    "    print(\"4.fahrenheit_to_kelvin\")\n",
    "    print(\"5.kelvin_to_celsius\")\n",
    "    print(\"6.kelvin_to_fahrenheit\")\n",
    "\n",
    "    while True:\n",
    "     convertr=input(\"Enter number btewwen 1-6 and 'ok' to stop:\")\n",
    "     if convertr.lower()=='ok':\n",
    "          break\n",
    "     value=float(input(\"Enter a temperature to convert:\"))\n",
    "     conversion.append(convertr)\n",
    "     \n",
    "     if convertr=='1':\n",
    "      celsius= value\n",
    "      print(f'{value}C is converted to { celsius_to_fahrenheit(celsius)}F:')\n",
    "     elif convertr=='2':\n",
    "       print(f'{value}C is converted to { celsius_to_kelvin(celsius)}K:')\n",
    "     elif convertr=='3':\n",
    "       fahrenheit=value\n",
    "       print(f'{value}F is converted to { fahrenheit_to_celsius(fahrenheit)}C:')\n",
    "     elif convertr=='4':\n",
    "        print(f'{value}F is converted to { fahrenheit_to_kelvin(fahrenheit)}K:')\n",
    "     elif convertr=='5':\n",
    "       kelvin=value\n",
    "       print(f'{value}K is converted to { kelvin_to_celsius(kelvin)}C:')   \n",
    "     else :\n",
    "       print(f'{value}K is converted to { kelvin_to_fahrenheit(kelvin)}F:')  \n",
    "\n",
    "temp_converter()\n"
   ]
  },
  {
   "cell_type": "code",
   "execution_count": null,
   "metadata": {},
   "outputs": [],
   "source": []
  }
 ],
 "metadata": {
  "kernelspec": {
   "display_name": "Python 3",
   "language": "python",
   "name": "python3"
  },
  "language_info": {
   "codemirror_mode": {
    "name": "ipython",
    "version": 3
   },
   "file_extension": ".py",
   "mimetype": "text/x-python",
   "name": "python",
   "nbconvert_exporter": "python",
   "pygments_lexer": "ipython3",
   "version": "3.12.5"
  }
 },
 "nbformat": 4,
 "nbformat_minor": 2
}
